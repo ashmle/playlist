{
 "cells": [
  {
   "cell_type": "code",
   "execution_count": 1,
   "metadata": {
    "collapsed": true
   },
   "outputs": [],
   "source": [
    "import nltk\n",
    "import requests\n",
    "import json"
   ]
  },
  {
   "cell_type": "code",
   "execution_count": 108,
   "metadata": {
    "collapsed": false
   },
   "outputs": [
    {
     "name": "stdout",
     "output_type": "stream",
     "text": [
      "Enter your input:that's what i like hello yellow submarine macarena smells like teen spirit\n"
     ]
    }
   ],
   "source": [
    "text=input('Enter your input:')"
   ]
  },
  {
   "cell_type": "markdown",
   "metadata": {},
   "source": [
    "# NLTK part"
   ]
  },
  {
   "cell_type": "code",
   "execution_count": 102,
   "metadata": {
    "collapsed": false
   },
   "outputs": [
    {
     "data": {
      "text/plain": [
       "['that', \"'s\", 'what', 'i', 'like', 'hollaback', 'girl', 'hello']"
      ]
     },
     "execution_count": 102,
     "metadata": {},
     "output_type": "execute_result"
    }
   ],
   "source": [
    "tokens = nltk.word_tokenize(text)\n",
    "tokens"
   ]
  },
  {
   "cell_type": "code",
   "execution_count": 105,
   "metadata": {
    "collapsed": false
   },
   "outputs": [],
   "source": [
    "def tokenator(text):\n",
    "    clean_tokens =[]\n",
    "    punctuation = [\",\", \":\", \";\", \".\", '\"', \"’\", \"?\", \"/\", \"-\", \"+\", \"&\", \"(\", \")\"] #\"'\" has been excluded\n",
    "    tokens = text.split(' ') \n",
    "    for token in tokens:\n",
    "        token = token.lower()\n",
    "        for punc in punctuation:\n",
    "            token = token.replace(punc,\"\")\n",
    "        if len(token):\n",
    "            clean_tokens.append(token)\n",
    "    return clean_tokens"
   ]
  },
  {
   "cell_type": "code",
   "execution_count": 109,
   "metadata": {
    "collapsed": true
   },
   "outputs": [],
   "source": [
    "clean_tokens = tokenator(text)"
   ]
  },
  {
   "cell_type": "code",
   "execution_count": null,
   "metadata": {
    "collapsed": true
   },
   "outputs": [],
   "source": [
    "for token in item:\n",
    "        token = token.lower()\n",
    "        for punc in punctuation:\n",
    "            token = token.replace(punc, \"\")\n",
    "        tokens.append(token)\n",
    "    clean_tokenized.append(tokens)\n",
    "print(clean_tokenized)"
   ]
  },
  {
   "cell_type": "code",
   "execution_count": null,
   "metadata": {
    "collapsed": false
   },
   "outputs": [],
   "source": [
    "print(list(nltk.bigrams(tokens))[0][0])"
   ]
  },
  {
   "cell_type": "code",
   "execution_count": 95,
   "metadata": {
    "collapsed": false
   },
   "outputs": [
    {
     "data": {
      "text/plain": [
       "['macarena', 'hello', 'fly', 'me', 'to', 'the', 'moon', 'hotline', 'bling']"
      ]
     },
     "execution_count": 95,
     "metadata": {},
     "output_type": "execute_result"
    }
   ],
   "source": [
    "clean_tokens = [word.lower() for word in tokens]\n",
    "clean_tokens"
   ]
  },
  {
   "cell_type": "code",
   "execution_count": null,
   "metadata": {
    "collapsed": true
   },
   "outputs": [],
   "source": [
    "songs=[]"
   ]
  },
  {
   "cell_type": "code",
   "execution_count": null,
   "metadata": {
    "collapsed": false
   },
   "outputs": [],
   "source": [
    "songs=['hello','smells like teen spirit','single ladies']"
   ]
  },
  {
   "cell_type": "markdown",
   "metadata": {},
   "source": [
    "# API part"
   ]
  },
  {
   "cell_type": "code",
   "execution_count": null,
   "metadata": {
    "collapsed": false
   },
   "outputs": [],
   "source": [
    "def get_most_popular_song(song, r_json):\n",
    "    index = 0;\n",
    "    maxval = 0;\n",
    "    for i in range(len(r_json['tracks']['items'])):\n",
    "        if (song in r_json['tracks']['items'][index]['name']) & (r_json['tracks']['items'][i]['popularity'] > maxval):\n",
    "            index = i\n",
    "            maxval = r_json['tracks']['items'][i]['popularity']\n",
    "    song = r_json['tracks']['items'][index]['name'] #Song Name\n",
    "    artist = r_json['tracks']['items'][index]['artists'][0]['name'] #Artist Name\n",
    "    link = r_json['tracks']['items'][index]['external_urls']['spotify'] #Track on Spotify\n",
    "    return '%s by %s - %s ' %(song, artist, link)"
   ]
  },
  {
   "cell_type": "code",
   "execution_count": null,
   "metadata": {
    "collapsed": false
   },
   "outputs": [],
   "source": [
    "playlist = {}\n",
    "no_playlist = {}\n",
    "for song in songs:\n",
    "    parameters = {'q': song,'type': 'track', 'market': 'US', 'limit':10}\n",
    "    r = requests.get('https://api.spotify.com/v1/search', params = parameters)\n",
    "    if r.status_code == 200:\n",
    "        playlist[song] = get_most_popular_song(song, r.json())\n",
    "    else:\n",
    "        no_playlist[song]= 'Failed with status error: %d' %(r.status_code)\n",
    "print(playlist)\n",
    "print(no_playlist)"
   ]
  },
  {
   "cell_type": "markdown",
   "metadata": {},
   "source": [
    "# End of Program, Beginning of scrap code"
   ]
  },
  {
   "cell_type": "code",
   "execution_count": null,
   "metadata": {
    "collapsed": false
   },
   "outputs": [],
   "source": [
    "song_q = deque(clean_tokens)\n",
    "song_q"
   ]
  },
  {
   "cell_type": "code",
   "execution_count": null,
   "metadata": {
    "collapsed": false
   },
   "outputs": [],
   "source": [
    "song2 = song_q.popleft()\n",
    "print(song2)"
   ]
  },
  {
   "cell_type": "code",
   "execution_count": null,
   "metadata": {
    "collapsed": true
   },
   "outputs": [],
   "source": [
    "score1 = 0\n",
    "score2 = 0"
   ]
  },
  {
   "cell_type": "code",
   "execution_count": null,
   "metadata": {
    "collapsed": false
   },
   "outputs": [],
   "source": [
    "def api_call(song2):\n",
    "    qvalue = '\"%s\"' %(song2)\n",
    "    parameters = {'q': qvalue,'type': 'track', 'market': 'US', 'limit': 10}\n",
    "    r = requests.get('https://api.spotify.com/v1/search', params = parameters)\n",
    "    return r"
   ]
  },
  {
   "cell_type": "code",
   "execution_count": null,
   "metadata": {
    "collapsed": true
   },
   "outputs": [],
   "source": [
    "def score(song2, r_json):\n",
    "    scoring = [1 for i in r_json['tracks']['items'] if (song2 in i['name'].lower())]\n",
    "    return sum(scoring)"
   ]
  },
  {
   "cell_type": "code",
   "execution_count": null,
   "metadata": {
    "collapsed": false
   },
   "outputs": [],
   "source": [
    "r = api_call(song2)\n",
    "r_json = r.json()\n",
    "print(r.status_code)"
   ]
  },
  {
   "cell_type": "code",
   "execution_count": null,
   "metadata": {
    "collapsed": false
   },
   "outputs": [],
   "source": [
    "score(song2, r_json)"
   ]
  },
  {
   "cell_type": "code",
   "execution_count": null,
   "metadata": {
    "collapsed": false
   },
   "outputs": [],
   "source": [
    "song2 = song2 +\" \"+song_q.popleft()\n",
    "song2"
   ]
  },
  {
   "cell_type": "code",
   "execution_count": null,
   "metadata": {
    "collapsed": false
   },
   "outputs": [],
   "source": [
    "r2 = api_call(song2)\n",
    "r2_json = r2.json()\n",
    "print(r2.status_code)"
   ]
  },
  {
   "cell_type": "code",
   "execution_count": null,
   "metadata": {
    "collapsed": false
   },
   "outputs": [],
   "source": [
    "score(song2,r2_json)"
   ]
  },
  {
   "cell_type": "code",
   "execution_count": null,
   "metadata": {
    "collapsed": true
   },
   "outputs": [],
   "source": []
  },
  {
   "cell_type": "markdown",
   "metadata": {},
   "source": [
    "# BIGRAM method"
   ]
  },
  {
   "cell_type": "code",
   "execution_count": 37,
   "metadata": {
    "collapsed": false
   },
   "outputs": [
    {
     "data": {
      "text/plain": [
       "['macarena',\n",
       " 'that',\n",
       " 'what',\n",
       " 'i',\n",
       " 'like',\n",
       " 'chunky',\n",
       " 'starboy',\n",
       " 'fly',\n",
       " 'me',\n",
       " 'to',\n",
       " 'the',\n",
       " 'moon']"
      ]
     },
     "execution_count": 37,
     "metadata": {},
     "output_type": "execute_result"
    }
   ],
   "source": [
    "clean_tokens"
   ]
  },
  {
   "cell_type": "code",
   "execution_count": 85,
   "metadata": {
    "collapsed": true
   },
   "outputs": [],
   "source": [
    "def score(name, r_json):\n",
    "    scoring = [1 for i in r_json['tracks']['items'] if (name in i['name'].lower())]\n",
    "    return sum(scoring)"
   ]
  },
  {
   "cell_type": "code",
   "execution_count": 86,
   "metadata": {
    "collapsed": true
   },
   "outputs": [],
   "source": [
    "def call_score(name):\n",
    "    qvalue = '\"%s\"' %(name)\n",
    "    parameters = {'q': qvalue,'type': 'track', 'market': 'US', 'limit': 1}\n",
    "    r = requests.get('https://api.spotify.com/v1/search', params = parameters)\n",
    "    if (r.status_code == 200):\n",
    "        return name, score(name, r.json()), r.json()\n",
    "    else:\n",
    "        print('For %s we got status code: %s' %(name,r.status_code))"
   ]
  },
  {
   "cell_type": "code",
   "execution_count": 87,
   "metadata": {
    "collapsed": true
   },
   "outputs": [],
   "source": [
    "def ngram_scoring(ngram, n):\n",
    "    joined_ngram = []\n",
    "    if n == 1:\n",
    "        joined_ngram = ngram\n",
    "    else:\n",
    "        joined_ngram = [' '.join(i) for i in ngram]\n",
    "    for j in joined_ngram:\n",
    "        name_score = call_score(j)\n",
    "        if name_score[1] == 1:\n",
    "            return name_score\n",
    "    return"
   ]
  },
  {
   "cell_type": "code",
   "execution_count": null,
   "metadata": {
    "collapsed": false
   },
   "outputs": [],
   "source": []
  },
  {
   "cell_type": "code",
   "execution_count": 132,
   "metadata": {
    "collapsed": false
   },
   "outputs": [],
   "source": [
    "def remove_ngram(clean_tokens, validated_ngrams):\n",
    "    if len(validated_ngrams) ==1:\n",
    "        validated_tokens = validated_ngrams\n",
    "    else:\n",
    "        validated_tokens = validated_ngrams.split(' ')\n",
    "        left_index = clean_tokens.index(validated_tokens[0])\n",
    "        right_index = clean_tokens.index(validated_tokens[len(validated_tokens)-1])\n",
    "        left = clean_tokens[:left_index]\n",
    "        right = clean_tokens[right_index+1:]\n",
    "    return left, right"
   ]
  },
  {
   "cell_type": "code",
   "execution_count": 133,
   "metadata": {
    "collapsed": false
   },
   "outputs": [
    {
     "data": {
      "text/plain": [
       "12"
      ]
     },
     "execution_count": 133,
     "metadata": {},
     "output_type": "execute_result"
    }
   ],
   "source": [
    "len(clean_tokens)"
   ]
  },
  {
   "cell_type": "code",
   "execution_count": 134,
   "metadata": {
    "collapsed": false
   },
   "outputs": [
    {
     "name": "stdout",
     "output_type": "stream",
     "text": [
      "that's what i like hello yellow submarine macarena smells like teen spirit\n",
      "that's what i like=> That's What I Like by Bruno Mars: https://open.spotify.com/track/0KKkJNfGyhkQ5aFogxQAPU\n",
      "smells like teen spirit=> Smells Like Teen Spirit by Nirvana: https://open.spotify.com/track/5ghIJDpPoe3CfHMGu71E6T\n",
      "hello yellow=> Hello (Yellow) by Erised: https://open.spotify.com/track/51Vs3U5XYPbwzdf7ZQFQ63\n",
      "submarine=> Yellow Submarine - Remastered by The Beatles: https://open.spotify.com/track/50xwQXPtfNZFKFeZ0XePWc\n",
      "macarena=> Mas Macarena by Gente De Zona: https://open.spotify.com/track/6rtxhUzK6FMzMtAw2Z9uZy\n"
     ]
    }
   ],
   "source": [
    "def create_playlist(cleaned_tokens, n):\n",
    "    if len(cleaned_tokens) == 1:\n",
    "        song = ngram_scoring(cleaned_tokens, 1)\n",
    "        if song:\n",
    "            track = song[2]['tracks']['items'][0]['name'] #Song Name\n",
    "            artist = song[2]['tracks']['items'][0]['artists'][0]['name'] #Artist Name\n",
    "            link = song[2]['tracks']['items'][0]['external_urls']['spotify'] #Track on Spotify\n",
    "            print(\"%s=> %s by %s: %s\" %(song[0],track,artist,link))\n",
    "        else:\n",
    "            print('We could not find this word \"%s\"' %(cleaned_tokens[0]))\n",
    "        return\n",
    "    else:\n",
    "        if n==1:\n",
    "            token_ngrams = cleaned_tokens\n",
    "        else:\n",
    "            token_ngrams = list(nltk.ngrams(cleaned_tokens, n))\n",
    "        song = ngram_scoring(token_ngrams, n)\n",
    "        if song:\n",
    "            track = song[2]['tracks']['items'][0]['name'] #Song Name\n",
    "            artist = song[2]['tracks']['items'][0]['artists'][0]['name'] #Artist Name\n",
    "            link = song[2]['tracks']['items'][0]['external_urls']['spotify'] #Track on Spotify\n",
    "            print(\"%s=> %s by %s: %s\" %(song[0],track,artist,link))\n",
    "            left, right = remove_ngram(cleaned_tokens, song[0])\n",
    "            if len(left):\n",
    "                create_playlist(left, len(left))\n",
    "            if len(right):\n",
    "                create_playlist(right, len(right))\n",
    "            return\n",
    "        elif n>1:\n",
    "            create_playlist(cleaned_tokens, n-1)\n",
    "            return\n",
    "        else:\n",
    "            print('We could not find these words: %s' %(cleaned_tokens))\n",
    "        return\n",
    "print(text)        \n",
    "create_playlist(clean_tokens, 5)"
   ]
  },
  {
   "cell_type": "markdown",
   "metadata": {
    "collapsed": false
   },
   "source": [
    "# FIX REPEAT WORD ISSUE"
   ]
  },
  {
   "cell_type": "code",
   "execution_count": null,
   "metadata": {
    "collapsed": false
   },
   "outputs": [],
   "source": []
  },
  {
   "cell_type": "code",
   "execution_count": null,
   "metadata": {
    "collapsed": true
   },
   "outputs": [],
   "source": [
    "# remove ngram with score from original tokens, print result playlist song"
   ]
  },
  {
   "cell_type": "code",
   "execution_count": null,
   "metadata": {
    "collapsed": true
   },
   "outputs": [],
   "source": [
    "# re-evaluate with leftover tokens"
   ]
  },
  {
   "cell_type": "code",
   "execution_count": null,
   "metadata": {
    "collapsed": true
   },
   "outputs": [],
   "source": []
  },
  {
   "cell_type": "code",
   "execution_count": null,
   "metadata": {
    "collapsed": false
   },
   "outputs": [],
   "source": [
    "for i in trigram:\n",
    "    print(ngram_call_score(' '.join(i)))"
   ]
  },
  {
   "cell_type": "code",
   "execution_count": null,
   "metadata": {
    "collapsed": false
   },
   "outputs": [],
   "source": [
    "for i in bigram:\n",
    "    print(ngram_call_score(' '.join(i)))"
   ]
  },
  {
   "cell_type": "code",
   "execution_count": null,
   "metadata": {
    "collapsed": false
   },
   "outputs": [],
   "source": [
    "for i in clean_tokens:\n",
    "    print(ngram_call_score(i))"
   ]
  },
  {
   "cell_type": "code",
   "execution_count": null,
   "metadata": {
    "collapsed": true
   },
   "outputs": [],
   "source": []
  },
  {
   "cell_type": "code",
   "execution_count": null,
   "metadata": {
    "collapsed": true
   },
   "outputs": [],
   "source": []
  },
  {
   "cell_type": "code",
   "execution_count": null,
   "metadata": {
    "collapsed": true
   },
   "outputs": [],
   "source": []
  },
  {
   "cell_type": "code",
   "execution_count": null,
   "metadata": {
    "collapsed": false
   },
   "outputs": [],
   "source": [
    "names = []\n",
    "in_scores_one = []\n",
    "if r.status_code == 200:\n",
    "    for i in range(len(r_json['tracks']['items'])):\n",
    "        names.append(r_json['tracks']['items'][i]['name'].lower())\n",
    "        if song2 in names[i]:\n",
    "            in_scores_one.append(1)\n",
    "        else:\n",
    "            in_scores_one.append(0)\n",
    "    print(names)\n",
    "    print(in_scores_one, sum(in_scores_one))\n",
    "elif r.status_code == 502:\n",
    "    song2 = song2 + \" \" + song_q.popleft()\n",
    "else:\n",
    "    print('You got this Status code: %s' %(r.status_code))"
   ]
  },
  {
   "cell_type": "code",
   "execution_count": null,
   "metadata": {
    "collapsed": true
   },
   "outputs": [],
   "source": []
  },
  {
   "cell_type": "code",
   "execution_count": null,
   "metadata": {
    "collapsed": true
   },
   "outputs": [],
   "source": []
  },
  {
   "cell_type": "code",
   "execution_count": null,
   "metadata": {
    "collapsed": true
   },
   "outputs": [],
   "source": []
  },
  {
   "cell_type": "code",
   "execution_count": null,
   "metadata": {
    "collapsed": true
   },
   "outputs": [],
   "source": []
  },
  {
   "cell_type": "code",
   "execution_count": null,
   "metadata": {
    "collapsed": false
   },
   "outputs": [],
   "source": [
    "r_json['tracks']['items'][0]['external_urls']['spotify'] #Song link"
   ]
  },
  {
   "cell_type": "code",
   "execution_count": null,
   "metadata": {
    "collapsed": false
   },
   "outputs": [],
   "source": [
    "r_json['tracks'].keys()"
   ]
  },
  {
   "cell_type": "code",
   "execution_count": null,
   "metadata": {
    "collapsed": false
   },
   "outputs": [],
   "source": [
    "r_json['tracks']['items'][0].keys()"
   ]
  },
  {
   "cell_type": "code",
   "execution_count": null,
   "metadata": {
    "collapsed": false
   },
   "outputs": [],
   "source": [
    "r_json['tracks']['items'][0]['artists'][0]['name']"
   ]
  },
  {
   "cell_type": "code",
   "execution_count": null,
   "metadata": {
    "collapsed": false
   },
   "outputs": [],
   "source": [
    "r_json['tracks']['items'][0]['name'] # Name of the Song"
   ]
  },
  {
   "cell_type": "code",
   "execution_count": null,
   "metadata": {
    "collapsed": false
   },
   "outputs": [],
   "source": [
    "names = []\n",
    "for i in range(20):\n",
    "    names.append(r_json['tracks']['items'][i]['name'].lower())\n",
    "print(names)"
   ]
  },
  {
   "cell_type": "code",
   "execution_count": null,
   "metadata": {
    "collapsed": false
   },
   "outputs": [],
   "source": [
    "r_json['tracks']['items'][0]['album'].keys()"
   ]
  },
  {
   "cell_type": "code",
   "execution_count": null,
   "metadata": {
    "collapsed": false
   },
   "outputs": [],
   "source": [
    "r_json['tracks']['items'][0]['artists'][0]['name'] # Artist"
   ]
  },
  {
   "cell_type": "code",
   "execution_count": null,
   "metadata": {
    "collapsed": false
   },
   "outputs": [],
   "source": [
    "r_json['tracks']['next']"
   ]
  },
  {
   "cell_type": "code",
   "execution_count": null,
   "metadata": {
    "collapsed": false
   },
   "outputs": [],
   "source": [
    "'hello smells' in 'hello smells from'"
   ]
  },
  {
   "cell_type": "code",
   "execution_count": null,
   "metadata": {
    "collapsed": false
   },
   "outputs": [],
   "source": [
    "'smells' in 'sweet dreams'"
   ]
  },
  {
   "cell_type": "code",
   "execution_count": null,
   "metadata": {
    "collapsed": false
   },
   "outputs": [],
   "source": [
    "queue = deque([1,2,3,4,5])\n",
    "if queue:\n",
    "    print('hola')\n",
    "while queue:\n",
    "    print(queue.popleft())\n",
    "print(\"c'est finite\")\n",
    "if queue:\n",
    "    print('goodbye')"
   ]
  },
  {
   "cell_type": "code",
   "execution_count": null,
   "metadata": {
    "collapsed": false
   },
   "outputs": [],
   "source": [
    "' '.join(['hola'])"
   ]
  },
  {
   "cell_type": "code",
   "execution_count": null,
   "metadata": {
    "collapsed": true
   },
   "outputs": [],
   "source": []
  }
 ],
 "metadata": {
  "kernelspec": {
   "display_name": "Python 3",
   "language": "python",
   "name": "python3"
  },
  "language_info": {
   "codemirror_mode": {
    "name": "ipython",
    "version": 3
   },
   "file_extension": ".py",
   "mimetype": "text/x-python",
   "name": "python",
   "nbconvert_exporter": "python",
   "pygments_lexer": "ipython3",
   "version": "3.5.2"
  }
 },
 "nbformat": 4,
 "nbformat_minor": 1
}
